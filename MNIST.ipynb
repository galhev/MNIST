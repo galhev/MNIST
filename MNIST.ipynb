{
  "nbformat": 4,
  "nbformat_minor": 0,
  "metadata": {
    "colab": {
      "name": "MNIST.ipynb",
      "provenance": [],
      "collapsed_sections": [],
      "include_colab_link": true
    },
    "kernelspec": {
      "name": "python3",
      "display_name": "Python 3"
    }
  },
  "cells": [
    {
      "cell_type": "markdown",
      "metadata": {
        "id": "view-in-github",
        "colab_type": "text"
      },
      "source": [
        "<a href=\"https://colab.research.google.com/github/galhev/MNIST/blob/master/MNIST.ipynb\" target=\"_parent\"><img src=\"https://colab.research.google.com/assets/colab-badge.svg\" alt=\"Open In Colab\"/></a>"
      ]
    },
    {
      "cell_type": "code",
      "metadata": {
        "id": "2WhPOu2hJgck",
        "colab_type": "code",
        "colab": {}
      },
      "source": [
        "import numpy\n",
        "from keras.datasets import mnist\n",
        "from keras.models import Sequential\n",
        "from keras.layers import Dense\n",
        "from keras.layers import Dropout\n",
        "from keras.layers import Flatten\n",
        "from keras.layers.convolutional import Conv2D\n",
        "from keras.layers.convolutional import MaxPooling2D\n",
        "from keras.utils import np_utils\n",
        "from keras import backend as K\n",
        "#K.set_image_dim_ordering('th')"
      ],
      "execution_count": 0,
      "outputs": []
    },
    {
      "cell_type": "code",
      "metadata": {
        "id": "HtM92wyxJjwd",
        "colab_type": "code",
        "colab": {}
      },
      "source": [
        "seed = 7\n",
        "numpy.random.seed(seed)"
      ],
      "execution_count": 0,
      "outputs": []
    },
    {
      "cell_type": "code",
      "metadata": {
        "id": "fp4sh-p6JmrE",
        "colab_type": "code",
        "colab": {}
      },
      "source": [
        "(X_train, y_train), (X_test, y_test) = mnist.load_data()"
      ],
      "execution_count": 0,
      "outputs": []
    },
    {
      "cell_type": "code",
      "metadata": {
        "id": "3m0egHqYQCQm",
        "colab_type": "code",
        "outputId": "47a05f2a-4b2f-4dfd-a14a-4feba2f792c6",
        "colab": {
          "base_uri": "https://localhost:8080/",
          "height": 35
        }
      },
      "source": [
        "X_train.shape"
      ],
      "execution_count": 51,
      "outputs": [
        {
          "output_type": "execute_result",
          "data": {
            "text/plain": [
              "(60000, 28, 28)"
            ]
          },
          "metadata": {
            "tags": []
          },
          "execution_count": 51
        }
      ]
    },
    {
      "cell_type": "code",
      "metadata": {
        "id": "g9_Tpt1xJ6Ph",
        "colab_type": "code",
        "colab": {}
      },
      "source": [
        "X_train = X_train.reshape(X_train.shape[0], 1, 28, 28).astype('float32')\n",
        "X_test = X_test.reshape(X_test.shape[0], 1, 28, 28).astype('float32')"
      ],
      "execution_count": 0,
      "outputs": []
    },
    {
      "cell_type": "code",
      "metadata": {
        "id": "0Hgic2Y_KAK5",
        "colab_type": "code",
        "colab": {}
      },
      "source": [
        "X_train = X_train / 255\n",
        "X_test = X_test / 255"
      ],
      "execution_count": 0,
      "outputs": []
    },
    {
      "cell_type": "code",
      "metadata": {
        "id": "c2PtLDfTP3kh",
        "colab_type": "code",
        "colab": {}
      },
      "source": [
        "y_train = np_utils.to_categorical(y_train)\n",
        "y_test = np_utils.to_categorical(y_test)\n",
        "num_classes = y_test.shape[1]"
      ],
      "execution_count": 0,
      "outputs": []
    },
    {
      "cell_type": "code",
      "metadata": {
        "id": "e3hSMF9qSi_u",
        "colab_type": "code",
        "outputId": "d5c61504-0edf-4f27-d4a7-4ea613565b9c",
        "colab": {
          "base_uri": "https://localhost:8080/",
          "height": 90
        }
      },
      "source": [
        "%pylab inline\n",
        "import matplotlib.pyplot as plt\n",
        "import matplotlib.image as mpimg\n"
      ],
      "execution_count": 55,
      "outputs": [
        {
          "output_type": "stream",
          "text": [
            "Populating the interactive namespace from numpy and matplotlib\n"
          ],
          "name": "stdout"
        },
        {
          "output_type": "stream",
          "text": [
            "/usr/local/lib/python3.6/dist-packages/IPython/core/magics/pylab.py:161: UserWarning: pylab import has clobbered these variables: ['seed']\n",
            "`%matplotlib` prevents importing * from pylab and numpy\n",
            "  \"\\n`%matplotlib` prevents importing * from pylab and numpy\"\n"
          ],
          "name": "stderr"
        }
      ]
    },
    {
      "cell_type": "code",
      "metadata": {
        "id": "ie-sEJGlYQ8O",
        "colab_type": "code",
        "outputId": "a2ac97a2-1b2d-4f96-b6c3-65550af6ab17",
        "colab": {
          "base_uri": "https://localhost:8080/",
          "height": 283
        }
      },
      "source": [
        "imshow(X_train[0].reshape([28,28]), cmap=plt.get_cmap('gray'))"
      ],
      "execution_count": 56,
      "outputs": [
        {
          "output_type": "execute_result",
          "data": {
            "text/plain": [
              "<matplotlib.image.AxesImage at 0x7f1f9fe78a90>"
            ]
          },
          "metadata": {
            "tags": []
          },
          "execution_count": 56
        },
        {
          "output_type": "display_data",
          "data": {
            "image/png": "[encoded data removed]",
            "text/plain": [
              "<Figure size 432x288 with 1 Axes>"
            ]
          },
          "metadata": {
            "tags": []
          }
        }
      ]
    },
    {
      "cell_type": "code",
      "metadata": {
        "id": "FwEXF1V-Ynnm",
        "colab_type": "code",
        "outputId": "b8e1b939-9360-47de-8b86-73953df214b1",
        "colab": {
          "base_uri": "https://localhost:8080/",
          "height": 283
        }
      },
      "source": [
        "imshow(X_train[1].reshape([28,28]), cmap=plt.get_cmap('gray'))"
      ],
      "execution_count": 57,
      "outputs": [
        {
          "output_type": "execute_result",
          "data": {
            "text/plain": [
              "<matplotlib.image.AxesImage at 0x7f1f9fe53748>"
            ]
          },
          "metadata": {
            "tags": []
          },
          "execution_count": 57
        },
        {
          "output_type": "display_data",
          "data": {
            "image/png": "[encoded data removed]",
            "text/plain": [
              "<Figure size 432x288 with 1 Axes>"
            ]
          },
          "metadata": {
            "tags": []
          }
        }
      ]
    },
    {
      "cell_type": "code",
      "metadata": {
        "id": "mGWamXIgbNDy",
        "colab_type": "code",
        "colab": {}
      },
      "source": [
        "# create model\n",
        "model = Sequential()\n",
        "model.add(Conv2D(32, (5, 5), input_shape=(1, 28, 28), activation='relu', data_format='channels_first'))\n",
        "model.add(MaxPooling2D(pool_size=(2, 2)))\n",
        "model.add(Dropout(0.2))\n",
        "model.add(Flatten())\n",
        "model.add(Dense(128, activation='relu'))\n",
        "model.add(Dense(num_classes, activation='softmax'))\n",
        "\n",
        "# Compile model\n",
        "model.compile(loss='categorical_crossentropy', optimizer='adam', metrics=['accuracy'])"
      ],
      "execution_count": 0,
      "outputs": []
    },
    {
      "cell_type": "code",
      "metadata": {
        "id": "DlsM-cybcCrC",
        "colab_type": "code",
        "outputId": "617df511-76da-4af1-cf50-3732d1c2034c",
        "colab": {
          "base_uri": "https://localhost:8080/",
          "height": 403
        }
      },
      "source": [
        "# Fit the model\n",
        "model.fit(X_train, y_train, epochs=10, batch_size=200, verbose=2)"
      ],
      "execution_count": 59,
      "outputs": [
        {
          "output_type": "stream",
          "text": [
            "Epoch 1/10\n",
            " - 38s - loss: 0.2543 - acc: 0.9267\n",
            "Epoch 2/10\n",
            " - 37s - loss: 0.0819 - acc: 0.9750\n",
            "Epoch 3/10\n",
            " - 38s - loss: 0.0556 - acc: 0.9829\n",
            "Epoch 4/10\n",
            " - 38s - loss: 0.0431 - acc: 0.9867\n",
            "Epoch 5/10\n",
            " - 37s - loss: 0.0343 - acc: 0.9889\n",
            "Epoch 6/10\n",
            " - 38s - loss: 0.0276 - acc: 0.9915\n",
            "Epoch 7/10\n",
            " - 37s - loss: 0.0235 - acc: 0.9924\n",
            "Epoch 8/10\n",
            " - 38s - loss: 0.0202 - acc: 0.9932\n",
            "Epoch 9/10\n",
            " - 37s - loss: 0.0172 - acc: 0.9945\n",
            "Epoch 10/10\n",
            " - 38s - loss: 0.0136 - acc: 0.9957\n"
          ],
          "name": "stdout"
        },
        {
          "output_type": "execute_result",
          "data": {
            "text/plain": [
              "<keras.callbacks.History at 0x7f1fa009acc0>"
            ]
          },
          "metadata": {
            "tags": []
          },
          "execution_count": 59
        }
      ]
    },
    {
      "cell_type": "code",
      "metadata": {
        "id": "2Scv0NBvtyaS",
        "colab_type": "code",
        "colab": {}
      },
      "source": [
        "y_preds = model.predict(X_test)"
      ],
      "execution_count": 0,
      "outputs": []
    },
    {
      "cell_type": "code",
      "metadata": {
        "id": "tRNV2rECfR0r",
        "colab_type": "code",
        "outputId": "9252957c-d3e6-47e5-9a39-8fa4b1c94db1",
        "colab": {
          "base_uri": "https://localhost:8080/",
          "height": 256
        }
      },
      "source": [
        "y_preds"
      ],
      "execution_count": 61,
      "outputs": [
        {
          "output_type": "execute_result",
          "data": {
            "text/plain": [
              "array([[4.8845177e-09, 1.2309710e-09, 4.1969529e-06, ..., 9.9998879e-01,\n",
              "        7.0555835e-08, 3.2637711e-06],\n",
              "       [5.1483124e-09, 2.1765862e-07, 9.9999976e-01, ..., 7.9845451e-13,\n",
              "        1.3158781e-10, 7.1614887e-14],\n",
              "       [1.2496912e-05, 9.9980694e-01, 1.8801810e-06, ..., 1.1427815e-04,\n",
              "        6.2967638e-06, 8.5398078e-08],\n",
              "       ...,\n",
              "       [5.0332367e-13, 8.4106895e-11, 2.3318418e-12, ..., 1.9650690e-08,\n",
              "        2.9627405e-08, 1.9554079e-08],\n",
              "       [2.5158725e-10, 3.7001886e-12, 6.4121654e-14, ..., 4.3412107e-11,\n",
              "        5.6902587e-05, 8.3306669e-12],\n",
              "       [8.8201824e-10, 6.1834163e-11, 2.9854874e-08, ..., 9.5286082e-16,\n",
              "        5.8460365e-08, 9.9349012e-13]], dtype=float32)"
            ]
          },
          "metadata": {
            "tags": []
          },
          "execution_count": 61
        }
      ]
    },
    {
      "cell_type": "code",
      "metadata": {
        "id": "IUBvVhFcF9Ql",
        "colab_type": "code",
        "outputId": "ab538555-275f-4b8c-f20c-84a48903629e",
        "colab": {
          "base_uri": "https://localhost:8080/",
          "height": 54
        }
      },
      "source": [
        "score = model.evaluate(X_test, y_test, verbose=0)\n",
        "print('Test loss:', score[0])\n",
        "print('Test accuracy:', score[1])"
      ],
      "execution_count": 62,
      "outputs": [
        {
          "output_type": "stream",
          "text": [
            "Test loss: 0.03402146647683985\n",
            "Test accuracy: 0.9897\n"
          ],
          "name": "stdout"
        }
      ]
    },
    {
      "cell_type": "code",
      "metadata": {
        "id": "t4gSApSIHmga",
        "colab_type": "code",
        "colab": {}
      },
      "source": [
        ""
      ],
      "execution_count": 0,
      "outputs": []
    }
  ]
}